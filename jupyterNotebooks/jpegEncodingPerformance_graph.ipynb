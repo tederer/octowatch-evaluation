{
  "nbformat": 4,
  "nbformat_minor": 0,
  "metadata": {
    "colab": {
      "provenance": []
    },
    "kernelspec": {
      "name": "python3",
      "display_name": "Python 3"
    },
    "language_info": {
      "name": "python"
    }
  },
  "cells": [
    {
      "cell_type": "markdown",
      "source": [
        "Creates statistics based on the encoding duration of tested encoders. The last line of code can be used to export the graph to a PNG. For each of the 2 encoders a set of 1000 photos (800 x 600 pixel) got encoder and the duration was measured for each of them. This process was repeated 100 times. The input files consists of 100 lines, each containing 1000 durations in milli seconds separated by a semicolon."
      ],
      "metadata": {
        "id": "6UCGCNVOHHOf"
      }
    },
    {
      "cell_type": "code",
      "execution_count": 1,
      "metadata": {
        "id": "1sjz7wA6UoKC"
      },
      "outputs": [],
      "source": [
        "import numpy as np\n",
        "import matplotlib.pyplot as plt\n",
        "import matplotlib.ticker as ticker\n",
        "import requests\n",
        "\n",
        "def downloadResults(filename):\n",
        "  response = requests.get('https://raw.githubusercontent.com/tederer/octowatch-evaluation/main/measurements/jpegEncoding/' + filename)\n",
        "  with open(filename, 'wb') as fd:\n",
        "    for chunk in response.iter_content(chunk_size=1024):\n",
        "      fd.write(chunk)"
      ]
    },
    {
      "cell_type": "code",
      "source": [
        "downloadResults('hardware.csv')\n",
        "downloadResults('libjpeg9.csv')\n",
        "downloadResults('libjpeg62-turbo.csv')"
      ],
      "metadata": {
        "id": "BkU7jp0YVWR5"
      },
      "execution_count": 2,
      "outputs": []
    },
    {
      "cell_type": "code",
      "source": [
        "def readCsvFile(filename):\n",
        "  csvFile = open(filename, 'r')\n",
        "  lines = csvFile.readlines()\n",
        "\n",
        "  values = []\n",
        "  index  = 0\n",
        "\n",
        "  for line in lines:\n",
        "    for value in line.split(';'):\n",
        "      values.append(float(value))\n",
        "\n",
        "  return values"
      ],
      "metadata": {
        "id": "XEUtCcCrVwwz"
      },
      "execution_count": 3,
      "outputs": []
    },
    {
      "cell_type": "code",
      "source": [
        "hardwareValues     = readCsvFile('hardware.csv')\n",
        "libjpeg9Values     = readCsvFile('libjpeg9.csv')\n",
        "libjpegTurboValues = readCsvFile('libjpeg62-turbo.csv')\n",
        "values = [libjpeg9Values, libjpegTurboValues, hardwareValues]\n",
        "\n",
        "print('libjpeg9     (median = {median:.3f}, average = {avg:.3f})'.format(median=np.median(libjpeg9Values), avg=np.average(libjpeg9Values)))\n",
        "print('libjpegTurbo (median = {median:.3f}, average = {avg:.3f})'.format(median=np.median(libjpegTurboValues), avg=np.average(libjpegTurboValues)))\n",
        "print('hardware     (median = {median:.3f}, average = {avg:.3f})'.format(median=np.median(hardwareValues), avg=np.average(hardwareValues)))\n",
        "\n",
        "figure, axes = plt.subplots(figsize=[15, 4.8])\n",
        "\n",
        "figure.set_figwidth(4)\n",
        "axes.set_ylabel('Dauer (ms)')\n",
        "axes.grid(True)\n",
        "axes.boxplot(values,\n",
        "             labels  = [\"libjpeg9\", \"libjpeg62-turbo\", \"Hardware\"],\n",
        "             patch_artist = True,\n",
        "             showfliers   = False,\n",
        "             medianprops  = {\"color\": \"white\", \"linewidth\": 0.5},\n",
        "             boxprops     = {\"facecolor\": \"C0\", \"edgecolor\": \"white\", \"linewidth\": 0.5},\n",
        "             whiskerprops = {\"color\": \"C0\", \"linewidth\": 1.5},\n",
        "             capprops     = {\"color\": \"C0\", \"linewidth\": 1.5},\n",
        "             flierprops   = {\"marker\": 'o', \"markerfacecolor\": \"gray\", \"markersize\": 3, \"markeredgecolor\": \"none\"})\n",
        "\n",
        "figure.savefig('jpegEncodingPerformance.png', dpi=300)"
      ],
      "metadata": {
        "colab": {
          "base_uri": "https://localhost:8080/",
          "height": 484
        },
        "id": "xNpeiHcaXCDk",
        "outputId": "7bdc7499-fa9e-40c1-d720-be39557ff1fc"
      },
      "execution_count": 4,
      "outputs": [
        {
          "output_type": "stream",
          "name": "stdout",
          "text": [
            "libjpeg9     (median = 66.132, average = 66.982)\n",
            "libjpegTurbo (median = 19.099, average = 19.857)\n",
            "hardware     (median = 2.919, average = 2.984)\n"
          ]
        },
        {
          "output_type": "display_data",
          "data": {
            "text/plain": [
              "<Figure size 400x480 with 1 Axes>"
            ],
            "image/png": "[encoded data removed]"
          },
          "metadata": {}
        }
      ]
    }
  ]
}